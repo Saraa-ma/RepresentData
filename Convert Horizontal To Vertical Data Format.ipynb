{
 "cells": [
  {
   "cell_type": "code",
   "execution_count": 176,
   "metadata": {},
   "outputs": [
    {
     "name": "stdout",
     "output_type": "stream",
     "text": [
      "             Item01 Item02 Item03\n",
      "Transactions                     \n",
      "T01               A      B       \n",
      "T02               B      C      D\n",
      "T03               C      B       \n",
      "T04               A      C        \n",
      " ------------------------------------\n",
      "Transactions T01 T02 T03 T04\n",
      "A              1   0   0   1\n",
      "B              1   1   1   0\n",
      "C              0   1   1   1\n",
      "D              0   1   0   0\n"
     ]
    }
   ],
   "source": [
    "# Import necessary libraries\n",
    "import numpy as np\n",
    "import pandas as pd\n",
    "\n",
    "# Define or Fetch our row data\n",
    "raw_data = {'Transactions':['T01', 'T02','T03','T04'],\n",
    "            'Item01':['A','B','C','A'],\n",
    "            'Item02':['B','C','B','C'],\n",
    "            'Item03':['','D','','']\n",
    "           }\n",
    "\n",
    "# Put all raw data in a pandas' DataFrame\n",
    "df = pd.DataFrame(raw_data).set_index('Transactions')\n",
    "print(df,'\\n','------------------------------------')\n",
    "\n",
    "# Find all unique values in the DataFrame\n",
    "column_values = df[df.columns.to_list()].values.ravel()\n",
    "unique_values =  pd.unique(column_values)\n",
    "\n",
    "# Define an empty DataFrame with the above information\n",
    "result = pd.DataFrame(index=unique_values, columns=df.index)\n",
    "\n",
    "# Fill result DataFrame with an appropriate data\n",
    "for ind,row in df.iterrows():\n",
    "    for r in unique_values:\n",
    "        if r in row.values.tolist():\n",
    "            result.at[r,ind]=1\n",
    "        else:\n",
    "            result.at[r,ind]=0\n",
    "\n",
    "result.drop('',inplace=True)\n",
    "# Print the result\n",
    "print(result)"
   ]
  }
 ],
 "metadata": {
  "kernelspec": {
   "display_name": "Python 3",
   "language": "python",
   "name": "python3"
  },
  "language_info": {
   "codemirror_mode": {
    "name": "ipython",
    "version": 3
   },
   "file_extension": ".py",
   "mimetype": "text/x-python",
   "name": "python",
   "nbconvert_exporter": "python",
   "pygments_lexer": "ipython3",
   "version": "3.7.4"
  }
 },
 "nbformat": 4,
 "nbformat_minor": 4
}
